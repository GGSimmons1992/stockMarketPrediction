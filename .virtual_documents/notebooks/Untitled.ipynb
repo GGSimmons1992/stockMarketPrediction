import pandas as pd

import sys
sys.path.insert(0, "../src/")
import util as util

%autosave 5





data = util.loadData("S&P")
